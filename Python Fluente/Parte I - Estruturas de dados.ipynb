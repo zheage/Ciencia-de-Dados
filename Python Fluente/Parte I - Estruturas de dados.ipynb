{
 "cells": [
  {
   "cell_type": "markdown",
   "id": "bf89a9ec",
   "metadata": {},
   "source": [
    "# 1. O modelo de dados de Python"
   ]
  },
  {
   "cell_type": "markdown",
   "id": "2df98e19",
   "metadata": {},
   "source": [
    "## 1.2. Um baralho pythônico"
   ]
  },
  {
   "cell_type": "markdown",
   "id": "5f109347",
   "metadata": {},
   "source": [
    "A biblioteca `collections` é um módulo da biblioteca padrão do Python que fornece tipos de dados especializados além das estruturas básicas como listas, tuplas e dicionários. Ela oferece implementações eficientes e fáceis de usar para coleções de dados, como:\n",
    "\n",
    "- `namedtuple`: tuplas nomeadas, que permitem acessar os elementos por nome em vez de índice.\n",
    "- `deque`: listas com inserção e remoção rápidas em ambos os extremos.\n",
    "- `Counter`: contador de elementos, útil para contagem de itens em iteráveis.\n",
    "- `OrderedDict`: dicionário que mantém a ordem de inserção dos itens.\n",
    "- `defaultdict`: dicionário com valor padrão para chaves inexistentes.\n",
    "\n",
    "Essas estruturas facilitam a manipulação e organização de dados em diversos cenários do dia a dia da programação em Python."
   ]
  },
  {
   "cell_type": "code",
   "execution_count": null,
   "id": "86b1aefe",
   "metadata": {},
   "outputs": [
    {
     "name": "stdout",
     "output_type": "stream",
     "text": [
      "52\n",
      "Carta(valor='2', naipe='♠')\n",
      "Carta(valor='A', naipe='♣')\n",
      "Carta(valor='2', naipe='♦')\n"
     ]
    }
   ],
   "source": [
    "import collections\n",
    "from random import choice\n",
    "\n",
    "Carta = collections.namedtuple('Carta', ['valor', 'naipe'])\n",
    "\n",
    "class Baralho:\n",
    "    ranks = [str(n) for n in range(2, 11)] + list('JQKA')\n",
    "    suits = '♠ ♥ ♦ ♣'.split()\n",
    "    \n",
    "    def __init__(self):\n",
    "        # Inicializa o baralho como uma lista de tuplas nomeadas representando as cartas\n",
    "        self.cartas = [Carta(r, s) for s in self.suits for r in self.ranks]\n",
    "        \n",
    "    def __len__(self):\n",
    "        return len(self.cartas)\n",
    "    \n",
    "    def __getitem__(self, posicao):\n",
    "        return self.cartas[posicao]\n",
    "    \n",
    "\n",
    "deck = Baralho()\n",
    "print(deck.__len__())  # Output: 52\n",
    "print(deck[0])  # Output: Carta(valor='2', naipe='♠')\n",
    "print(deck[51])  # Output: Carta(valor='A', naipe='♣')\n",
    "print(choice(deck))  # Randomly selects a card from the deck"
   ]
  },
  {
   "cell_type": "markdown",
   "id": "b05829b8",
   "metadata": {},
   "source": [
    "Utilizar classes, como demonstrado com o baralho, permite estruturar dados e comportamentos de forma organizada e reutilizável. Isso facilita a manutenção, a extensão do código e o encapsulamento de funcionalidades, tornando o desenvolvimento mais eficiente e o código mais legível e robusto.\n"
   ]
  },
  {
   "cell_type": "markdown",
   "id": "9534189d",
   "metadata": {},
   "source": [
    "## 1.3. Como os métodos especiais são utilizados"
   ]
  },
  {
   "cell_type": "code",
   "execution_count": null,
   "id": "a6d9b8fd",
   "metadata": {},
   "outputs": [
    {
     "name": "stdout",
     "output_type": "stream",
     "text": [
      "7\n"
     ]
    }
   ],
   "source": [
    "# Teste de métodos especiais\n",
    "class Pessoa():\n",
    "    def __init__(self, nome):\n",
    "        self.nome = nome\n",
    "\n",
    "    # Implementa o método __len__ para retornar o comprimento do nome caso a função len seja chamada\n",
    "    def __len__(self):\n",
    "        return len(self.nome)\n",
    "\n",
    "Richard = Pessoa('Richard')\n",
    "print(len(Richard))"
   ]
  },
  {
   "cell_type": "code",
   "execution_count": 33,
   "id": "60583cd3",
   "metadata": {},
   "outputs": [
    {
     "name": "stdout",
     "output_type": "stream",
     "text": [
      "Vector(3, 4)\n",
      "Vector(4, 6)\n",
      "Vector(6, 8)\n",
      "True\n"
     ]
    }
   ],
   "source": [
    "# Teste utilizando vetores\n",
    "\n",
    "class Vector:\n",
    "    \n",
    "    def __init__(self, x = 0, y = 0):\n",
    "        self.x = x\n",
    "        self.y = y\n",
    "        \n",
    "    def __repr__(self):\n",
    "        # Retorna uma representação legível do objeto Vector\n",
    "        return f'Vector({self.x}, {self.y})'\n",
    "    \n",
    "    def __bool__(self):\n",
    "        # Retorna True se o vetor não for nulo (ou seja, se x ou y não forem zero)\n",
    "        return bool(self.x or self.y)\n",
    "    \n",
    "    def __add__(self, other):\n",
    "        # Permite a adição de dois vetores\n",
    "        return Vector(self.x + other.x, self.y + other.y)\n",
    "    \n",
    "    def __mul__(self, scalar):\n",
    "        # Permite a multiplicação de um vetor por um escalar\n",
    "        return Vector(self.x * scalar, self.y * scalar)\n",
    "    \n",
    "    \n",
    "print(Vector(3, 4))\n",
    "print(Vector(3, 4) + Vector(1, 2))  # Output: Vector(4, 6)\n",
    "print(Vector(3, 4) * 2)  # Output: Vector(6, 8)\n",
    "print(bool(Vector(3, 4)))  # Output: True"
   ]
  }
 ],
 "metadata": {
  "kernelspec": {
   "display_name": "Python 3",
   "language": "python",
   "name": "python3"
  },
  "language_info": {
   "codemirror_mode": {
    "name": "ipython",
    "version": 3
   },
   "file_extension": ".py",
   "mimetype": "text/x-python",
   "name": "python",
   "nbconvert_exporter": "python",
   "pygments_lexer": "ipython3",
   "version": "3.12.4"
  }
 },
 "nbformat": 4,
 "nbformat_minor": 5
}
