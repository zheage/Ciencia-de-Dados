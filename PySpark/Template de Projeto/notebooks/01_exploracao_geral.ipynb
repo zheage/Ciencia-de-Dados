{
 "cells": [
  {
   "cell_type": "code",
   "execution_count": 0,
   "metadata": {
    "application/vnd.databricks.v1+cell": {
     "cellMetadata": {
      "byteLimit": 2048000,
      "rowLimit": 10000
     },
     "inputWidgets": {},
     "nuid": "fb49a497-d919-4bcc-bd67-a8fd36807201",
     "showTitle": true,
     "tableResultSettingsMap": {},
     "title": "Exemplo de utilização de módulos no DataBricks"
    }
   },
   "outputs": [],
   "source": [
    "# Adiciona o módulo local como diretório no projeto\n",
    "import sys\n",
    "sys.path.append(\"/Workspace/Users/richard.guilherme.dev@gmail.com/Ciencia-de-Dados/PySpark/Template de Projeto\")\n",
    "\n",
    "# Carrega as variáveis de configuração\n",
    "exec(open(\"00_config.py\").read())\n",
    "\n",
    "# Carrega bibliotecas que serão utilizadas no projeto\n",
    "from src.validate.print_ola_mundo import print_ola_mundo\n",
    "\n",
    "print_ola_mundo()"
   ]
  }
 ],
 "metadata": {
  "application/vnd.databricks.v1+notebook": {
   "computePreferences": {
    "hardware": {
     "accelerator": null,
     "gpuPoolId": null,
     "memory": null
    }
   },
   "dashboards": [],
   "environmentMetadata": {
    "base_environment": "",
    "environment_version": "2"
   },
   "inputWidgetPreferences": {
    "autoRunOnWidgetChange": "auto-run-all"
   },
   "language": "python",
   "notebookMetadata": {
    "pythonIndentUnit": 4,
    "widgetLayout": [
     {
      "breakBefore": false,
      "name": "param_1",
      "width": 196
     }
    ]
   },
   "notebookName": "01_exploracao_geral",
   "widgets": {}
  },
  "language_info": {
   "name": "python"
  }
 },
 "nbformat": 4,
 "nbformat_minor": 0
}
