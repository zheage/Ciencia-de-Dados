{
 "cells": [
  {
   "cell_type": "markdown",
   "metadata": {
    "application/vnd.databricks.v1+cell": {
     "cellMetadata": {},
     "inputWidgets": {},
     "nuid": "196eb1ca-0a33-4791-9974-8b92f4bc2eae",
     "showTitle": false,
     "tableResultSettingsMap": {},
     "title": ""
    }
   },
   "source": [
    "# Trabalhando com `show()`, `printSchema()`, `describe()`, `select()`"
   ]
  },
  {
   "cell_type": "code",
   "execution_count": 0,
   "metadata": {
    "application/vnd.databricks.v1+cell": {
     "cellMetadata": {
      "byteLimit": 2048000,
      "rowLimit": 10000
     },
     "inputWidgets": {},
     "nuid": "08c92585-8af1-4dff-a41a-bc6b8360207b",
     "showTitle": true,
     "tableResultSettingsMap": {},
     "title": "Cria DataFrame"
    }
   },
   "outputs": [],
   "source": [
    "from pyspark.sql import SparkSession\n",
    "from pyspark.sql.types import StructType, StructField, IntegerType, StringType, DoubleType\n",
    "\n",
    "# Definir o schema do DataFrame\n",
    "schema = StructType([\n",
    "    StructField(\"cliente_id\", IntegerType(), True),\n",
    "    StructField(\"idade\", IntegerType(), True),\n",
    "    StructField(\"renda_mensal\", DoubleType(), True),\n",
    "    StructField(\"flag_garantia\", IntegerType(), True),  # 1 = com garantia, 0 = sem garantia\n",
    "    StructField(\"inadimplente\", IntegerType(), True)    # 1 = sim, 0 = não\n",
    "])\n",
    "\n",
    "# Criar dados simulados\n",
    "dados = [\n",
    "    (1, 35, 3500.0, 1, 0),\n",
    "    (2, 42, 1200.0, 0, 1),\n",
    "    (3, 29, 5400.0, 1, 0),\n",
    "    (4, 51, 1800.0, 0, 1),\n",
    "    (5, 23, 2300.0, 1, 0),\n",
    "]\n",
    "\n",
    "# Criar o DataFrame\n",
    "df = spark.createDataFrame(dados, schema=schema)"
   ]
  },
  {
   "cell_type": "code",
   "execution_count": 0,
   "metadata": {
    "application/vnd.databricks.v1+cell": {
     "cellMetadata": {
      "byteLimit": 2048000,
      "rowLimit": 10000
     },
     "inputWidgets": {},
     "nuid": "ca7f215b-4e71-429f-9506-501f1f78699a",
     "showTitle": true,
     "tableResultSettingsMap": {},
     "title": "show()"
    }
   },
   "outputs": [],
   "source": [
    "df.show(n = 3)"
   ]
  },
  {
   "cell_type": "markdown",
   "metadata": {
    "application/vnd.databricks.v1+cell": {
     "cellMetadata": {},
     "inputWidgets": {},
     "nuid": "3e8f7480-6dc7-4d4a-95f0-7aef6d19e56d",
     "showTitle": false,
     "tableResultSettingsMap": {},
     "title": ""
    }
   },
   "source": [
    "\n",
    "### `.show()` vs `.limit()`\n",
    "| Aspecto     | `df.show(n)`                   | `df.limit(n)`                       |\n",
    "| ----------- | ------------------------------ | ----------------------------------- |\n",
    "| Tipo        | Ação (executa plano)           | Transformação (lazy)                |\n",
    "| Retorno     | `None` (exibe no console)      | Novo `DataFrame` com até `n` linhas |\n",
    "| Composição  | Não composável                 | Composável (encadeável)             |\n",
    "| Uso típico  | Inspeção rápida no terminal    | Subamostragem para manipulação      |\n"
   ]
  },
  {
   "cell_type": "code",
   "execution_count": 0,
   "metadata": {
    "application/vnd.databricks.v1+cell": {
     "cellMetadata": {
      "byteLimit": 2048000,
      "rowLimit": 10000
     },
     "inputWidgets": {},
     "nuid": "e2e43c94-0190-4246-ad62-55a42c461e45",
     "showTitle": true,
     "tableResultSettingsMap": {},
     "title": "printSchema()"
    }
   },
   "outputs": [],
   "source": [
    "# imprime o esquema do DataFrame, ou seja, os nomes das colunas, tipos de dados e se permitem nulos.\n",
    "df.printSchema()"
   ]
  },
  {
   "cell_type": "code",
   "execution_count": 0,
   "metadata": {
    "application/vnd.databricks.v1+cell": {
     "cellMetadata": {
      "byteLimit": 2048000,
      "rowLimit": 10000
     },
     "inputWidgets": {},
     "nuid": "4b36ee89-1a87-459e-8781-2f2df808500f",
     "showTitle": true,
     "tableResultSettingsMap": {},
     "title": "describe()"
    }
   },
   "outputs": [],
   "source": [
    "display(df.describe())"
   ]
  },
  {
   "cell_type": "code",
   "execution_count": 0,
   "metadata": {
    "application/vnd.databricks.v1+cell": {
     "cellMetadata": {
      "byteLimit": 2048000,
      "rowLimit": 10000
     },
     "inputWidgets": {},
     "nuid": "81a97c04-8c43-4458-8f2f-fbb34ee58d66",
     "showTitle": true,
     "tableResultSettingsMap": {},
     "title": "select()"
    }
   },
   "outputs": [],
   "source": [
    "display(df.select(\"cliente_id\", \"idade\"))"
   ]
  }
 ],
 "metadata": {
  "application/vnd.databricks.v1+notebook": {
   "computePreferences": {
    "hardware": {
     "accelerator": null,
     "gpuPoolId": null,
     "memory": "STANDARD"
    }
   },
   "dashboards": [],
   "environmentMetadata": {
    "base_environment": "",
    "environment_version": "2"
   },
   "inputWidgetPreferences": null,
   "language": "python",
   "notebookMetadata": {
    "pythonIndentUnit": 4
   },
   "notebookName": "00 - Fundamentos do PySpark",
   "widgets": {}
  },
  "kernelspec": {
   "display_name": "Python 3",
   "language": "python",
   "name": "python3"
  },
  "language_info": {
   "name": "python"
  }
 },
 "nbformat": 4,
 "nbformat_minor": 0
}
