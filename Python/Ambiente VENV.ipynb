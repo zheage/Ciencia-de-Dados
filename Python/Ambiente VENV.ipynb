{
 "cells": [
  {
   "cell_type": "markdown",
   "id": "825767a5",
   "metadata": {},
   "source": [
    "Um **ambiente virtual em Python** é uma **estrutura isolada** que permite instalar pacotes (como `pyspark`, `pandas`, `scikit-learn`, etc.) **sem interferir no sistema principal ou em outros projetos**.\n",
    "\n",
    "## ✅ Vantagens de usar ambientes virtuais\n",
    "\n",
    "- **Isolamento de dependências** entre projetos\n",
    "- **Evita conflitos** de versões\n",
    "- Permite **reprodutibilidade** (com `requirements.txt`)\n",
    "- Boa prática recomendada em **qualquer projeto Python profissional**\n",
    "\n",
    "### ✅ Criando e Ativando um Ambiente Virtual no Python\n",
    "\n",
    "### 1. **Criar o ambiente virtual**\n",
    "\n",
    "Abra o terminal (ou o Prompt de Comando no Windows) e navegue até o diretório do seu projeto. Então, execute:\n",
    "\n",
    "```\n",
    "python -m venv nome_do_ambiente\n",
    "```\n",
    "\n",
    "Isso criará uma pasta chamada `venv/` contendo o ambiente virtual.\n",
    "\n",
    "### 2. **Ativar o ambiente virtual**\n",
    "\n",
    "A ativação depende do sistema operacional:\n",
    "\n",
    "- **Windows (CMD):**\n",
    "\n",
    "```python\n",
    "venv\\Scripts\\Activate.ps1\n",
    "```"
   ]
  }
 ],
 "metadata": {
  "language_info": {
   "name": "python"
  }
 },
 "nbformat": 4,
 "nbformat_minor": 5
}
