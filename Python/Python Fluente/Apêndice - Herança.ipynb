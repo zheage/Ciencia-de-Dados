{
 "cells": [
  {
   "cell_type": "markdown",
   "id": "2f0541b2",
   "metadata": {},
   "source": [
    "# Herança Simples"
   ]
  },
  {
   "cell_type": "code",
   "execution_count": null,
   "id": "494e32e0",
   "metadata": {},
   "outputs": [],
   "source": [
    "import numpy as np\n",
    "import pandas as pd\n",
    "\n",
    "class BaseTransformer:\n",
    "    def fit(self, X):\n",
    "        # Por padrão, não faz nada\n",
    "        return self\n",
    "\n",
    "    def transform(self, X):\n",
    "        raise NotImplementedError(\"Você deve implementar o método transform().\")\n",
    "\n",
    "    def fit_transform(self, X):\n",
    "        return self.fit(X).transform(X)\n",
    "\n",
    "class ZScoreTransformer(BaseTransformer):\n",
    "    def fit(self, X):\n",
    "        self.mean_ = X.mean()\n",
    "        self.std_ = X.std()\n",
    "        return self\n",
    "\n",
    "    def transform(self, X):\n",
    "        return (X - self.mean_) / self.std_\n",
    "\n",
    "class LogTransformer(BaseTransformer):\n",
    "    def transform(self, X):\n",
    "        return np.log1p(X)  # log(1 + x) para evitar log(0)\n",
    "\n",
    "class Pipeline:\n",
    "    def __init__(self, steps):\n",
    "        self.steps = steps  # Lista de tuplas: [(\"nome\", transformer)]\n",
    "\n",
    "    def fit(self, X):\n",
    "        for name, transformer in self.steps:\n",
    "            X = transformer.fit_transform(X)\n",
    "        return self\n",
    "\n",
    "    def transform(self, X):\n",
    "        for name, transformer in self.steps:\n",
    "            X = transformer.transform(X)\n",
    "        return X\n",
    "\n",
    "    def fit_transform(self, X):\n",
    "        return self.fit(X).transform(X)\n"
   ]
  },
  {
   "cell_type": "code",
   "execution_count": 13,
   "id": "6129965b",
   "metadata": {},
   "outputs": [
    {
     "name": "stdout",
     "output_type": "stream",
     "text": [
      "0   -1.505626\n",
      "1   -0.417349\n",
      "2    0.221218\n",
      "3    0.674837\n",
      "4    1.026921\n",
      "Name: saldo, dtype: float64\n"
     ]
    }
   ],
   "source": [
    "df = pd.DataFrame({\n",
    "    'saldo': [100, 200, 300, 400, 500]\n",
    "})\n",
    "\n",
    "pipeline = Pipeline([\n",
    "    (\"log\", LogTransformer()),\n",
    "    (\"zscore\", ZScoreTransformer())\n",
    "])\n",
    "\n",
    "resultado = pipeline.fit_transform(df[\"saldo\"])\n",
    "print(resultado)"
   ]
  },
  {
   "cell_type": "markdown",
   "id": "f6aae30c",
   "metadata": {},
   "source": [
    "# Herança Múltipla"
   ]
  },
  {
   "cell_type": "code",
   "execution_count": null,
   "id": "757575f1",
   "metadata": {},
   "outputs": [],
   "source": []
  },
  {
   "cell_type": "code",
   "execution_count": null,
   "id": "c9914996",
   "metadata": {},
   "outputs": [],
   "source": []
  }
 ],
 "metadata": {
  "kernelspec": {
   "display_name": "Python 3",
   "language": "python",
   "name": "python3"
  },
  "language_info": {
   "codemirror_mode": {
    "name": "ipython",
    "version": 3
   },
   "file_extension": ".py",
   "mimetype": "text/x-python",
   "name": "python",
   "nbconvert_exporter": "python",
   "pygments_lexer": "ipython3",
   "version": "3.12.4"
  }
 },
 "nbformat": 4,
 "nbformat_minor": 5
}
