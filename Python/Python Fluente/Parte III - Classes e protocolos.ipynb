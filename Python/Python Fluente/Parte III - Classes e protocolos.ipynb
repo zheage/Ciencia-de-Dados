{
 "cells": [
  {
   "cell_type": "markdown",
   "id": "d2c089cb",
   "metadata": {},
   "source": [
    "# 11. Um objeto pythônico"
   ]
  },
  {
   "cell_type": "markdown",
   "id": "774600c0",
   "metadata": {},
   "source": [
    "Veremos como:\n",
    "\n",
    "- Suportar as funções embutidas que convertem objetos para outros tipos (por exemplo, repr(), bytes(), complex(), etc.)\n",
    "- Implementar um construtor alternativo como um método da classe\n",
    "- Estender a mini-linguagem de formatação usada pelas f-strings, pela função embutida format() e pelo método str.format()\n",
    "- Fornecer acesso a atributos apenas para leitura\n",
    "- Tornar um objetos hashable, para uso em sets e como chaves de dict\n",
    "- Economizar memória com __slots__"
   ]
  },
  {
   "cell_type": "markdown",
   "id": "d5b62857",
   "metadata": {},
   "source": [
    "## 11.2. Representações de objetos"
   ]
  },
  {
   "cell_type": "markdown",
   "id": "e793f4f3",
   "metadata": {},
   "source": [
    "Todas as linguagens orientadas a objetos tem pelo menos uma forma padrão de se obter uma representação de qualquer objeto como uma string. Python tem duas formas:\n",
    "\n",
    "> `repr()`: Devolve uma string representando o objeto como o desenvolvedor quer vê-lo. É o que aparece quando o console de Python ou um depurador mostram um objeto.\n",
    ">\n",
    "> `str()`: Devolve uma string representando o objeto como o usuário quer vê-lo. É o que aparece quando se passa um objeto como argumento para print().m"
   ]
  },
  {
   "cell_type": "markdown",
   "id": "5ba963cf",
   "metadata": {},
   "source": [
    "## 11.3. A volta da classe Vector"
   ]
  },
  {
   "cell_type": "code",
   "execution_count": null,
   "id": "ce114461",
   "metadata": {},
   "outputs": [
    {
     "name": "stdout",
     "output_type": "stream",
     "text": [
      "3.0 4.0\n",
      "(3.0, 4.0)\n"
     ]
    }
   ],
   "source": [
    "from array import array\n",
    "import math\n",
    "\n",
    "class Vector2d:\n",
    "    # typecode é um atributo de classe que define o tipo de dado usado para armazenar os valores no array.\n",
    "    # Neste caso, 'd' indica que os valores serão armazenados como floats de precisão dupla (double).\n",
    "    typecode = 'd'\n",
    "    \n",
    "    def __init__(self, x, y):\n",
    "        self.x = float(x)\n",
    "        self.y = float(y)\n",
    "        \n",
    "    def __iter__(self): # Torna o vetor iterável (1)\n",
    "        return (i for i in (self.x, self.y))\n",
    "    \n",
    "    def __repr__(self):\n",
    "        # Retorna uma representação do objeto que pode ser usada para recriá-lo\n",
    "        class_name = type(self).__name__\n",
    "        return f\"{class_name}({self.x}, {self.y})\"\n",
    "    \n",
    "    def __str__(self):\n",
    "        return str(tuple(self))\n",
    "    \n",
    "    def __eq__(self, other):\n",
    "        return tuple(self)  == tuple(other)\n",
    "    \n",
    "    def __abs__(self):\n",
    "        return math.hypot(self.x, self.y)\n",
    "    \n",
    "    def __bool__(self):\n",
    "        returnbool(abs(self))\n",
    "        \n",
    "    \n",
    "\n",
    "v = Vector2d(3, 4)\n",
    "\n",
    "# Torna o vetor iterável (1)\n",
    "x, y = v\n",
    "print(x, y)\n",
    "\n",
    "# Torna o objeto com nome (2)\n",
    "print(v)\n"
   ]
  },
  {
   "cell_type": "markdown",
   "id": "0ddbb9d9",
   "metadata": {},
   "source": [
    "## 11.4. Um construtor alternativo"
   ]
  },
  {
   "cell_type": "code",
   "execution_count": null,
   "id": "5a769666",
   "metadata": {},
   "outputs": [],
   "source": [
    "@classmethod  # O decorador classmethod modifica um método para que ele possa ser chamado diretamente em uma classe.\n",
    "def frombytes(cls, octets):  # Nenhum argumento self; em vez disso, a própria classe é passada como primeiro argumento—por convenção chamado cls.\n",
    "    typecode = chr(octets[0])  # Lê o typecode do primeiro byte.\n",
    "    memv = memoryview(octets[1:]).cast(typecode)  # Cria uma memoryview a partir da sequência binária octets, e usa o typecode para convertê-la\n",
    "    return cls(*memv)  # Desempacota a memoryview resultante da conversão no par de argumentos necessários para o construtor."
   ]
  },
  {
   "cell_type": "markdown",
   "id": "ccb3f1ff",
   "metadata": {},
   "source": [
    "# 14. Herança: para o bem ou para o mal"
   ]
  },
  {
   "cell_type": "markdown",
   "id": "d54ca3b9",
   "metadata": {},
   "source": []
  }
 ],
 "metadata": {
  "kernelspec": {
   "display_name": "Python 3",
   "language": "python",
   "name": "python3"
  },
  "language_info": {
   "codemirror_mode": {
    "name": "ipython",
    "version": 3
   },
   "file_extension": ".py",
   "mimetype": "text/x-python",
   "name": "python",
   "nbconvert_exporter": "python",
   "pygments_lexer": "ipython3",
   "version": "3.12.4"
  }
 },
 "nbformat": 4,
 "nbformat_minor": 5
}
