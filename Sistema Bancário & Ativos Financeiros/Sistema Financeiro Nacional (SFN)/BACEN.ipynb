{
 "cells": [
  {
   "cell_type": "markdown",
   "id": "b5fc67f3",
   "metadata": {},
   "source": [
    "# Sistema de Informações Banco Central (SISBACEN)\n",
    "\n",
    "Conjunto de sistemas que dão suporte a instituição para condução de seus objetivos\n",
    "\n",
    "# Sistema de Informações de Crédito (SCR)\n",
    "\n",
    "Banco de dados do BACEN que registra as operações de crédito de pessoas físicas e jurídicas, alimentado mensalmente pelas instituições financeiras\n",
    "\n",
    "# **Documento 3040 – Dados de Risco de Crédito**\n",
    "\n",
    "- [Instruções de preenchimento do documento 3040](https://www.bcb.gov.br/content/estabilidadefinanceira/Leiaute_de_documentos/scrdoc3040/SCR_InstrucoesDePreenchimento_Doc3040.pdf)\n",
    "- [Layout de report do Documento da 3040](https://onedrive.live.com/personal/94d2aabf21b255f6/_layouts/15/doc2.aspx?resid=94D2AABF21B255F6!s1e794cb2bb734d499163fcb6ec6c56a6&cid=94d2aabf21b255f6&ct=1743875632642&wdOrigin=OFFICECOM-WEB.MAIN.UPLOAD&wdPreviousSessionSrc=HarmonyWeb&wdPreviousSession=d263faff-18a1-4660-9ec1-6d6b8ed81e48)"
   ]
  }
 ],
 "metadata": {
  "language_info": {
   "name": "python"
  }
 },
 "nbformat": 4,
 "nbformat_minor": 5
}
