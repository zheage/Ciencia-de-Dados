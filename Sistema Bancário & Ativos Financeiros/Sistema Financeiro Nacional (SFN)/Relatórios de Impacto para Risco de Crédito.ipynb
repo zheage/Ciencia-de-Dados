{
 "cells": [
  {
   "cell_type": "markdown",
   "id": "ebfaa4b9",
   "metadata": {},
   "source": [
    "# 📑 Relatórios de Impacto para Risco de Crédito\n",
    "\n",
    "- [ ] Balanço Patrimonial\n",
    "- [ ] DRE (Demonstração do Resultado do Exercício)\n",
    "- [ ] Notas Explicativas e Release de RI\n",
    "- [ ] DLO (Demonstrativos de Limites Operacionais) \n",
    "- [ ] RAS (Relatório de Apetite ao Risco)\n",
    "- [ ] PR (Patrimônio de Referência)\n",
    "- [ ] RWA (Ativos Ponderados pelo Risco)\n",
    "- [ ] Índice de Basiléia  \n",
    "- [ ] CEA (Capital Econômico Alocado)\n"
   ]
  }
 ],
 "metadata": {
  "language_info": {
   "name": "python"
  }
 },
 "nbformat": 4,
 "nbformat_minor": 5
}
