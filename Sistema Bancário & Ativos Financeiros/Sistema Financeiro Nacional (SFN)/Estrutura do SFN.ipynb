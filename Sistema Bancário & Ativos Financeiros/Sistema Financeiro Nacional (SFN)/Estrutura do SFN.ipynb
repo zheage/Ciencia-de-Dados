{
 "cells": [
  {
   "cell_type": "markdown",
   "id": "69611a4d",
   "metadata": {},
   "source": [
    "# 🏦 Estrutura do Sistema Financeiro Nacional (SFN)"
   ]
  },
  {
   "cell_type": "markdown",
   "id": "3631e658",
   "metadata": {},
   "source": [
    "O **SFN (Sistema Financeiro Nacional)** é o conjunto de instituições públicas e privadas, normas e instrumentos que regulam, fiscalizam e executam as operações financeiras no Brasil. Ele é dividido em dois grandes subsistemas:\n",
    "\n",
    "1. Normativo – Define regras e diretrizes:\n",
    "   - Conselho Monetário Nacional (CMN)\n",
    "   - Conselho Nacional de Seguros Privados (CNSP)\n",
    "   - Conselho Nacional de Previdência Complementar (CNPC)\n",
    "\n",
    "2. Executivo/Operacional – Executa e fiscaliza as operações:\n",
    "   - Banco Central do Brasil (BCB)\n",
    "   - Comissão de Valores Mobiliários (CVM)\n",
    "   - Superintendência de Seguros Privados (SUSEP)\n",
    "   - Superintendência Nacional de Previdência Complementar (PREVIC)\n",
    "   - Instituições financeiras (bancos, corretoras, cooperativas etc.)\n",
    "\n",
    "O SFN tem como objetivos principais garantir a estabilidade econômica, a solidez do sistema bancário, o acesso ao crédito e a proteção dos investidores e consumidores financeiros."
   ]
  },
  {
   "cell_type": "markdown",
   "id": "2c9a2be5",
   "metadata": {},
   "source": [
    "## Conselho Monetário Nacional (CMN)\n",
    "\n",
    "A **CVM** é uma **autarquia federal vinculada ao Ministério da Fazenda**, criada pela **Lei nº 6.385/1976**, com o objetivo de **regular, desenvolver, fiscalizar e disciplinar o mercado de valores mobiliários no Brasil**.\n",
    "\n",
    "### 1. 📜 Regulação\n",
    "\n",
    "- Emite **instruções normativas** (ex: Instrução CVM 555 sobre fundos)\n",
    "- Estabelece **regras de conduta, transparência e governança** para emissores, intermediários, gestores e consultores de valores mobiliários\n",
    "\n",
    "### 2. 🕵️‍♂️ Supervisão e fiscalização\n",
    "\n",
    "- Fiscaliza:\n",
    "    - Bolsas de valores e balcões organizados\n",
    "    - Fundos de investimento\n",
    "    - Administradores, gestores e auditores independentes\n",
    "    - Companhias abertas (S.A. listadas)\n",
    "\n",
    "### 3. ⚖️ Sanção e responsabilização\n",
    "\n",
    "- Pode aplicar **multas, suspensões e inabilitações** por descumprimento das normas\n",
    "- Atua contra **insider trading**, manipulação de mercado e fraudes\n",
    "\n",
    "### 4. 📢 Educação e desenvolvimento\n",
    "\n",
    "- Promove **educação financeira** e **inclusão de investidores**\n",
    "- Estimula o **crescimento do mercado de capitais** e a proteção do investidor\n",
    "\n",
    "---\n",
    "\n",
    "### 🧠 Exemplos de atuação da CVM\n",
    "\n",
    "- Aprovação de **ofertas públicas de ações e debêntures**\n",
    "- Registro e supervisão de **fundos de investimento**\n",
    "- Investigação de **fraudes contábeis** em empresas listadas\n",
    "- Análise de **material publicitário** de produtos financeiros"
   ]
  },
  {
   "cell_type": "markdown",
   "id": "e15e239c",
   "metadata": {},
   "source": [
    "## Banco Central do Brasil (BACEN)\n",
    "\n",
    "O **Banco Central do Brasil (BACEN)** exerce **as duas funções**: tanto **normativa** (criação de normas infralegais) quanto **supervisora**. No entanto, é fundamental entender **como essas funções são exercidas e em que contexto**, especialmente dentro da estrutura do Sistema Financeiro Nacional (SFN).\n",
    "\n",
    "[Banco Central do Brasil](https://www.bcb.gov.br/acessoinformacao/estruturabc)\n",
    "\n",
    "---\n",
    "\n",
    "### 🏛️ **1. O BACEN como órgão supervisor**\n",
    "\n",
    "Essa é sua **função principal**. O BACEN é o órgão **executor da supervisão e fiscalização** das instituições financeiras, garantindo a **estabilidade, solidez e regular funcionamento do SFN**.\n",
    "\n",
    "- 📌 **Fiscaliza** bancos, cooperativas, instituições de pagamento, fintechs etc.\n",
    "- 📌 **Verifica conformidade com as normas do CMN**.\n",
    "- 📌 **Aplica sanções** em caso de infrações (advertências, multas, intervenções).\n",
    "- 📌 Exerce o papel de **autoridade monetária** junto com o CMN (atua, por exemplo, sobre a política monetária e cambial).\n",
    "\n",
    "---\n",
    "\n",
    "### 📜 **2. O BACEN como órgão normativo (secundário)**\n",
    "\n",
    "Embora a **função normativa principal seja do Conselho Monetário Nacional (CMN)**, o BACEN também edita **normas complementares e regulamentares**, como **resoluções, circulares e cartas-circulares**, **desde que em linha com as diretrizes do CMN**.\n",
    "\n",
    "Exemplos:\n",
    "\n",
    "- **Circular 3.979/20** – Implementa a **Resolução CMN 4.557/17** sobre gerenciamento de riscos e capital (aplicada a Basel III).\n",
    "- **Resoluções BCB** – Desde a transformação normativa pós-2021, o BACEN ganhou maior autonomia para normatizar matérias operacionais."
   ]
  },
  {
   "cell_type": "markdown",
   "id": "a4ab86fb",
   "metadata": {},
   "source": [
    "## Comissão de Valores Mobiliários (CVM)"
   ]
  }
 ],
 "metadata": {
  "language_info": {
   "name": "python"
  }
 },
 "nbformat": 4,
 "nbformat_minor": 5
}
