{
 "cells": [
  {
   "cell_type": "markdown",
   "id": "46311282",
   "metadata": {},
   "source": [
    "# 🏦 Conselho Monetário Nacional (CMN)\n",
    "\n",
    "O Conselho Monetário Nacional (CMN) é o órgão superior do Sistema Financeiro Nacional responsável pela formulação da política da moeda e do crédito, tendo como objetivo a  estabilidade da moeda e o desenvolvimento econômico e social do País.\n",
    "\n",
    "- Os membros do CMN reúnem-se uma vez por mês para deliberar sobre assuntos como orientar a aplicação dos recursos das instituições financeiras; propiciar o aperfeiçoamento das instituições e dos instrumentos financeiros; zelar pela liquidez e solvência das instituições financeiras; e coordenar as políticas monetária, creditícia, orçamentária e da dívida pública interna e externa.\n",
    "- Composição\n",
    "    - 🧑‍💼 **Ministro da Fazenda** – **Presidente do CMN**\n",
    "        - Atualmente: **Fernando Haddad** (desde 2023)\n",
    "        - Papel: lidera as decisões de política econômica, incluindo diretrizes fiscais e financeiras\n",
    "\n",
    "    - 🧑‍⚖️ **Ministro do Planejamento e Orçamento**\n",
    "        - Atualmente: **Simone Tebet**\n",
    "        - Papel: representa o planejamento macroeconômico e fiscal de médio e longo prazo\n",
    "  \n",
    "    - 🧑‍🏫 **Presidente do Banco Central do Brasil (BACEN)**\n",
    "        - Atualmente: **Gabriel Galípolo**\n",
    "        - Papel: provê suporte técnico e executa a política monetária (taxa Selic, open market, compulsórios etc.)\n",
    "\n",
    "\n",
    "O CMN foi criado junto com o Banco Central, pela [Lei nº 4.595](https://www.planalto.gov.br/ccivil_03/Leis/L4595.htm), de 31 de dezembro de 1964. O Conselho deu início às suas atividades 90 dias depois, em 31 de março de 1965. Seu Regimento Interno foi aprovado pelo [Decreto nº 1.307](https://www.planalto.gov.br/ccivil_03/decreto/1990-1994/d1307.htm), de 9 de novembro de 1994.\n",
    "\n",
    "</aside>\n",
    "\n",
    "### 🎯 Funções principais do CMN\n",
    "\n",
    "- Estabelecer diretrizes da **política monetária e cambial**\n",
    "- Regular o **funcionamento das instituições financeiras**\n",
    "- Estabelecer normas para **crédito rural, imobiliário e industrial**\n",
    "- Determinar regras para **IFRS 9 / Basiléia / Riscos no SFN**\n",
    "- Deliberar sobre **resoluções normativas** (ex: Resolução CMN 4.557/17 sobre gerenciamento de riscos"
   ]
  }
 ],
 "metadata": {
  "language_info": {
   "name": "python"
  }
 },
 "nbformat": 4,
 "nbformat_minor": 5
}
