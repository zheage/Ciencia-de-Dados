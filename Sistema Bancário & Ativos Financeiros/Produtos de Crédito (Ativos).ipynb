{
 "cells": [
  {
   "cell_type": "markdown",
   "id": "cb158387",
   "metadata": {},
   "source": [
    "💎 Produtos de Crédito (Ativos)\n",
    "\n",
    "- [ ] Crédito pessoal e consignado\n",
    "- [ ] Financiamentos (veículos, imóveis)\n",
    "- [ ] Cartões de crédito e crédito rotativo"
   ]
  }
 ],
 "metadata": {
  "language_info": {
   "name": "python"
  }
 },
 "nbformat": 4,
 "nbformat_minor": 5
}
