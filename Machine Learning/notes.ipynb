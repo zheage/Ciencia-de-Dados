{
 "cells": [
  {
   "cell_type": "markdown",
   "metadata": {
    "application/vnd.databricks.v1+cell": {
     "cellMetadata": {},
     "inputWidgets": {},
     "nuid": "52e40ea9-ec40-4b8a-baf9-ac3197b2c3c1",
     "showTitle": false,
     "tableResultSettingsMap": {},
     "title": ""
    }
   },
   "source": [
    "\n",
    "# Anki\n",
    "\n",
    "- O que é um Delta Lake?\n",
    "- O que é o Unity Catalog?\n",
    "- O que é ACID?\n",
    "- Formatos para Schema de uma tabela no bricks\n",
    "- `df.summary()`\n",
    "- `dbutils.data.summarize(df)` API do databricks\n",
    "  - Quais são as principais funções de `dbutils`?\n",
    "- Melhor forma de utilizar os jobs/clusters do databricks\n",
    "- Como adicionar imagens no início de um notebook, como se for um título?\n",
    "- Como agrupar, sumarizar e ordenar tabelas no databricks?\n",
    "- Correlation Heatmap usando seaborn/matplotlib\n",
    "- Pairplot\n",
    "- Boxplot\n",
    "- pesquisar sobre write methods no databricks/saveAsTable\n",
    "- Pesquisar sobre option, overwriteSchema\n",
    "- Como ler uma tabela de um arquivo csv `(spark.read.csv)`\n",
    "- DESCRIBE HISTORY `nome_da_coluna`\n",
    "- `printSchema()`\n",
    "- Reventendo change por versão (spark.read.option(\"\", x).table). Também é possível reverter utilizando timestamp\n",
    "- O que é a pep8?\n",
    "- O que é feature engeneering\n",
    "- O que é feature extraction\n",
    "- tipos de sampling methods\n",
    "  - random sampling\n",
    "  - statified sampling\n",
    "  - cluster sampling\n",
    "- how to deal with missing values?\n",
    "  - types of missing data\n",
    "- from `databricks.feature_engineering import FeatureEngineeringClient`\n",
    "\n",
    "\n",
    "\n",
    "\n",
    "\n"
   ]
  }
 ],
 "metadata": {
  "application/vnd.databricks.v1+notebook": {
   "computePreferences": null,
   "dashboards": [],
   "environmentMetadata": {
    "base_environment": "",
    "environment_version": "2"
   },
   "inputWidgetPreferences": null,
   "language": "python",
   "notebookMetadata": {
    "pythonIndentUnit": 4
   },
   "notebookName": "notes",
   "widgets": {}
  },
  "language_info": {
   "name": "python"
  }
 },
 "nbformat": 4,
 "nbformat_minor": 0
}
