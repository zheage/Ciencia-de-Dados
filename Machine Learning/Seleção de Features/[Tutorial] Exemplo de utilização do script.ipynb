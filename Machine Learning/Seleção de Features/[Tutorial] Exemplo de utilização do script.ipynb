{
 "cells": [
  {
   "cell_type": "code",
   "execution_count": 0,
   "metadata": {
    "application/vnd.databricks.v1+cell": {
     "cellMetadata": {
      "byteLimit": 2048000,
      "rowLimit": 10000
     },
     "inputWidgets": {},
     "nuid": "b230d60d-0a94-4efd-822c-002a7a6455bb",
     "showTitle": false,
     "tableResultSettingsMap": {},
     "title": ""
    }
   },
   "outputs": [],
   "source": [
    "# Exemplo: instalação de uma biblioteca no cluster\n",
    "# %pip install feature-engine lightgbm (instala biblioteca no cluster do bricks)\n",
    "# %pip install feature-engine borutapy (instala biblioteca no cluster do bricks)\n",
    "\n",
    "from feature_selection import *\n",
    "from utils import *"
   ]
  },
  {
   "cell_type": "markdown",
   "metadata": {
    "application/vnd.databricks.v1+cell": {
     "cellMetadata": {
      "byteLimit": 2048000,
      "rowLimit": 10000
     },
     "inputWidgets": {},
     "nuid": "c5fdd8b8-2ec6-41dd-bc87-010e19db3dd9",
     "showTitle": false,
     "tableResultSettingsMap": {},
     "title": ""
    }
   },
   "source": [
    "# Base de Exemplo"
   ]
  },
  {
   "cell_type": "code",
   "execution_count": 0,
   "metadata": {
    "application/vnd.databricks.v1+cell": {
     "cellMetadata": {
      "byteLimit": 2048000,
      "rowLimit": 10000
     },
     "inputWidgets": {},
     "nuid": "67c55e8d-c37e-4a08-bcb1-d71fccfc0964",
     "showTitle": false,
     "tableResultSettingsMap": {},
     "title": ""
    }
   },
   "outputs": [],
   "source": [
    "from sklearn.datasets import make_classification\n",
    "import numpy as np\n",
    "import pandas as pd\n",
    "\n",
    "# Cria variáveis numéricas usadas durante o estudo\n",
    "X, y = make_classification(\n",
    "    n_samples = 10000,\n",
    "    n_features = 80,\n",
    "    n_informative = 20,\n",
    "    n_redundant = 60,\n",
    "    n_clusters_per_class = 1,\n",
    "    shuffle = False,\n",
    "    random_state = 42\n",
    ")\n",
    "\n",
    "# Converte para DataFrame\n",
    "df = pd.DataFrame(X, columns = [f'feat_{i}' for i in range(1, 81)])\n",
    "\n",
    "# Cria 10 colunas com variáveis numéricas com apenas 10% de preenchimento\n",
    "for i in range(10):\n",
    "    df[f'feat_{81+i}'] = np.where(\n",
    "        np.random.rand(len(df)) < 0.05,\n",
    "        np.random.rand(len(df)),\n",
    "        np.nan\n",
    "    )\n",
    "\n",
    "# Cria 10 colunas com variáveis numéricas com 95% dos valores definidos como 1 e o restante como 0\n",
    "for i in range(10):\n",
    "    df[f'feat_{91+i}'] = np.where(\n",
    "        np.random.rand(len(df)) < 0.95,\n",
    "        1, \n",
    "        0\n",
    "    )\n",
    "\n",
    "# df['feat_101'] = 'Teste variáveis string'\n",
    "\n",
    "df['target'] = y\n",
    "\n",
    "display(df.head(3))"
   ]
  },
  {
   "cell_type": "code",
   "execution_count": 0,
   "metadata": {
    "application/vnd.databricks.v1+cell": {
     "cellMetadata": {
      "byteLimit": 2048000,
      "rowLimit": 10000
     },
     "inputWidgets": {},
     "nuid": "d54e2979-3942-4af8-9662-ae3c5358b584",
     "showTitle": false,
     "tableResultSettingsMap": {},
     "title": ""
    }
   },
   "outputs": [],
   "source": [
    "df_na, relatorio_na = remove_features_na(\n",
    "    df,\n",
    "    threshold = 0.9, \n",
    "    target_col = 'target'\n",
    ")\n",
    "\n",
    "df_sem_variacao_percentil, relatorio_sem_variacao_percentil = remove_features_sem_variacao_percentil(\n",
    "    df_na, \n",
    "    p = 0.1, \n",
    "    target_col = 'target'\n",
    ")\n",
    "\n",
    "df_selecao_feature_gain, relatorio_feature_gain = seleciona_top_features_information_gain(\n",
    "    df_sem_variacao_percentil, \n",
    "    target_col = 'target', \n",
    "    importance_threshold = 0.8\n",
    ")\n",
    "\n",
    "df_selecao_pearson, relatorio_pearson = remover_variaveis_correlacionadas(\n",
    "    df_selecao_feature_gain,\n",
    "    target_col = 'target',\n",
    "    corr_threshold = 0.5,\n",
    "    method = 'pearson'\n",
    ")\n",
    "\n",
    "df_selecao_spearman, relatorio_spearman = remover_variaveis_correlacionadas(\n",
    "    df_selecao_pearson,\n",
    "    target_col = 'target',\n",
    "    corr_threshold = 0.5,\n",
    "    method = 'spearman'\n",
    ")\n",
    "\n",
    "df_selecao_boruta, relatorio_boruta = selecionar_features_boruta(\n",
    "    df_selecao_spearman,\n",
    "    target_col = 'target'\n",
    ")\n",
    "\n",
    "relatorio_selecionadas = relatorio_selecionadas(\n",
    "    df_selecao_boruta, \n",
    "    'target'\n",
    ")"
   ]
  },
  {
   "cell_type": "code",
   "execution_count": 0,
   "metadata": {
    "application/vnd.databricks.v1+cell": {
     "cellMetadata": {
      "byteLimit": 2048000,
      "rowLimit": 10000
     },
     "inputWidgets": {},
     "nuid": "1816cc01-ff93-46ac-9670-2b1cd89fcf2f",
     "showTitle": false,
     "tableResultSettingsMap": {},
     "title": ""
    }
   },
   "outputs": [],
   "source": [
    "display(\n",
    "    pd.concat(\n",
    "        [\n",
    "            relatorio_na,\n",
    "            relatorio_sem_variacao_percentil,\n",
    "            relatorio_feature_gain,\n",
    "            relatorio_pearson,\n",
    "            relatorio_spearman,\n",
    "            relatorio_boruta,\n",
    "            relatorio_selecionadas\n",
    "        ],\n",
    "        ignore_index=True\n",
    "    )\n",
    ")"
   ]
  }
 ],
 "metadata": {
  "application/vnd.databricks.v1+notebook": {
   "computePreferences": null,
   "dashboards": [],
   "environmentMetadata": {
    "base_environment": "",
    "environment_version": "2"
   },
   "inputWidgetPreferences": null,
   "language": "python",
   "notebookMetadata": {
    "pythonIndentUnit": 4
   },
   "notebookName": "[Tutorial] Exemplo de utilização do script",
   "widgets": {}
  },
  "language_info": {
   "name": "python"
  }
 },
 "nbformat": 4,
 "nbformat_minor": 0
}
